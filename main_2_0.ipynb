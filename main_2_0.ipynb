{
  "nbformat": 4,
  "nbformat_minor": 0,
  "metadata": {
    "colab": {
      "provenance": []
    },
    "kernelspec": {
      "name": "python3",
      "display_name": "Python 3"
    },
    "language_info": {
      "name": "python"
    }
  },
  "cells": [
    {
      "cell_type": "markdown",
      "source": [
        "# Background"
      ],
      "metadata": {
        "id": "HqyPMb6MnQCI"
      }
    },
    {
      "cell_type": "markdown",
      "source": [
        "The company seeks to automate (in real time) the loan qualifying procedure based on information given by customers while filling out an online application form. It is expected that the development of ML models that can help the company predict loan approval in accelerating decision-making process for determining whether an applicant is eligible for a loan or not.\n",
        "\n",
        "**The machine learning models used in this project are:**\n",
        "\n",
        "1. Logistic Regression\n",
        "2. K-Nearest Neighbour (KNN)\n",
        "3. Support Vector Machine (SVM)\n",
        "4. Naive Bayes\n",
        "5. Decision Tree\n",
        "6. Random Forest\n",
        "7. Gradient Boost\n",
        "\n",
        "**Data Source:** https://www.kaggle.com/datasets/ninzaami/loan-predication"
      ],
      "metadata": {
        "id": "evE411yYnu1I"
      }
    },
    {
      "cell_type": "markdown",
      "source": [
        "# Data Preparation"
      ],
      "metadata": {
        "id": "0yac9Q88n3xM"
      }
    },
    {
      "cell_type": "code",
      "execution_count": 1,
      "metadata": {
        "id": "jJNIoRjWaNpF"
      },
      "outputs": [],
      "source": [
        "import numpy as np\n",
        "import pandas as pd\n",
        "import matplotlib.pyplot as plt\n",
        "import missingno as mso\n",
        "import seaborn as sns\n",
        "import warnings\n",
        "import os\n",
        "import scipy\n",
        "\n",
        "from scipy import stats\n",
        "from scipy.stats import pearsonr\n",
        "from scipy.stats import ttest_ind\n",
        "from sklearn.metrics import classification_report\n",
        "from sklearn.metrics import confusion_matrix\n",
        "from sklearn.preprocessing import MinMaxScaler\n",
        "from sklearn.model_selection import train_test_split\n",
        "from imblearn.over_sampling import SMOTE\n",
        "\n",
        "from sklearn.linear_model import LogisticRegression\n",
        "from sklearn.neighbors import KNeighborsClassifier\n",
        "from sklearn.svm import SVC\n",
        "from sklearn.naive_bayes import CategoricalNB\n",
        "from sklearn.naive_bayes import GaussianNB\n",
        "from sklearn.tree import DecisionTreeClassifier\n",
        "from sklearn.ensemble import RandomForestClassifier\n",
        "from sklearn.ensemble import GradientBoostingClassifier\n",
        "from xgboost import XGBClassifier\n",
        "from sklearn.model_selection import GridSearchCV, RandomizedSearchCV\n"
      ]
    },
    {
      "cell_type": "code",
      "source": [
        "url = 'https://raw.githubusercontent.com/rusevaz/loan-approval-prediction/main/train_u6lujuX_CVtuZ9i%20(1).csv'\n",
        "df = pd.read_csv(url)\n",
        "df"
      ],
      "metadata": {
        "colab": {
          "base_uri": "https://localhost:8080/",
          "height": 505
        },
        "id": "H9uk5VtSXB9P",
        "outputId": "96b18e86-1463-4930-8f22-e827e73a6bca"
      },
      "execution_count": 5,
      "outputs": [
        {
          "output_type": "execute_result",
          "data": {
            "text/plain": [
              "      Loan_ID  Gender Married Dependents     Education Self_Employed  \\\n",
              "0    LP001002    Male      No          0      Graduate            No   \n",
              "1    LP001003    Male     Yes          1      Graduate            No   \n",
              "2    LP001005    Male     Yes          0      Graduate           Yes   \n",
              "3    LP001006    Male     Yes          0  Not Graduate            No   \n",
              "4    LP001008    Male      No          0      Graduate            No   \n",
              "..        ...     ...     ...        ...           ...           ...   \n",
              "609  LP002978  Female      No          0      Graduate            No   \n",
              "610  LP002979    Male     Yes         3+      Graduate            No   \n",
              "611  LP002983    Male     Yes          1      Graduate            No   \n",
              "612  LP002984    Male     Yes          2      Graduate            No   \n",
              "613  LP002990  Female      No          0      Graduate           Yes   \n",
              "\n",
              "     ApplicantIncome  CoapplicantIncome  LoanAmount  Loan_Amount_Term  \\\n",
              "0               5849                0.0         NaN             360.0   \n",
              "1               4583             1508.0       128.0             360.0   \n",
              "2               3000                0.0        66.0             360.0   \n",
              "3               2583             2358.0       120.0             360.0   \n",
              "4               6000                0.0       141.0             360.0   \n",
              "..               ...                ...         ...               ...   \n",
              "609             2900                0.0        71.0             360.0   \n",
              "610             4106                0.0        40.0             180.0   \n",
              "611             8072              240.0       253.0             360.0   \n",
              "612             7583                0.0       187.0             360.0   \n",
              "613             4583                0.0       133.0             360.0   \n",
              "\n",
              "     Credit_History Property_Area Loan_Status  \n",
              "0               1.0         Urban           Y  \n",
              "1               1.0         Rural           N  \n",
              "2               1.0         Urban           Y  \n",
              "3               1.0         Urban           Y  \n",
              "4               1.0         Urban           Y  \n",
              "..              ...           ...         ...  \n",
              "609             1.0         Rural           Y  \n",
              "610             1.0         Rural           Y  \n",
              "611             1.0         Urban           Y  \n",
              "612             1.0         Urban           Y  \n",
              "613             0.0     Semiurban           N  \n",
              "\n",
              "[614 rows x 13 columns]"
            ],
            "text/html": [
              "\n",
              "  <div id=\"df-9c95eb6b-096a-491f-bd2d-aa2af0eaf3f8\">\n",
              "    <div class=\"colab-df-container\">\n",
              "      <div>\n",
              "<style scoped>\n",
              "    .dataframe tbody tr th:only-of-type {\n",
              "        vertical-align: middle;\n",
              "    }\n",
              "\n",
              "    .dataframe tbody tr th {\n",
              "        vertical-align: top;\n",
              "    }\n",
              "\n",
              "    .dataframe thead th {\n",
              "        text-align: right;\n",
              "    }\n",
              "</style>\n",
              "<table border=\"1\" class=\"dataframe\">\n",
              "  <thead>\n",
              "    <tr style=\"text-align: right;\">\n",
              "      <th></th>\n",
              "      <th>Loan_ID</th>\n",
              "      <th>Gender</th>\n",
              "      <th>Married</th>\n",
              "      <th>Dependents</th>\n",
              "      <th>Education</th>\n",
              "      <th>Self_Employed</th>\n",
              "      <th>ApplicantIncome</th>\n",
              "      <th>CoapplicantIncome</th>\n",
              "      <th>LoanAmount</th>\n",
              "      <th>Loan_Amount_Term</th>\n",
              "      <th>Credit_History</th>\n",
              "      <th>Property_Area</th>\n",
              "      <th>Loan_Status</th>\n",
              "    </tr>\n",
              "  </thead>\n",
              "  <tbody>\n",
              "    <tr>\n",
              "      <th>0</th>\n",
              "      <td>LP001002</td>\n",
              "      <td>Male</td>\n",
              "      <td>No</td>\n",
              "      <td>0</td>\n",
              "      <td>Graduate</td>\n",
              "      <td>No</td>\n",
              "      <td>5849</td>\n",
              "      <td>0.0</td>\n",
              "      <td>NaN</td>\n",
              "      <td>360.0</td>\n",
              "      <td>1.0</td>\n",
              "      <td>Urban</td>\n",
              "      <td>Y</td>\n",
              "    </tr>\n",
              "    <tr>\n",
              "      <th>1</th>\n",
              "      <td>LP001003</td>\n",
              "      <td>Male</td>\n",
              "      <td>Yes</td>\n",
              "      <td>1</td>\n",
              "      <td>Graduate</td>\n",
              "      <td>No</td>\n",
              "      <td>4583</td>\n",
              "      <td>1508.0</td>\n",
              "      <td>128.0</td>\n",
              "      <td>360.0</td>\n",
              "      <td>1.0</td>\n",
              "      <td>Rural</td>\n",
              "      <td>N</td>\n",
              "    </tr>\n",
              "    <tr>\n",
              "      <th>2</th>\n",
              "      <td>LP001005</td>\n",
              "      <td>Male</td>\n",
              "      <td>Yes</td>\n",
              "      <td>0</td>\n",
              "      <td>Graduate</td>\n",
              "      <td>Yes</td>\n",
              "      <td>3000</td>\n",
              "      <td>0.0</td>\n",
              "      <td>66.0</td>\n",
              "      <td>360.0</td>\n",
              "      <td>1.0</td>\n",
              "      <td>Urban</td>\n",
              "      <td>Y</td>\n",
              "    </tr>\n",
              "    <tr>\n",
              "      <th>3</th>\n",
              "      <td>LP001006</td>\n",
              "      <td>Male</td>\n",
              "      <td>Yes</td>\n",
              "      <td>0</td>\n",
              "      <td>Not Graduate</td>\n",
              "      <td>No</td>\n",
              "      <td>2583</td>\n",
              "      <td>2358.0</td>\n",
              "      <td>120.0</td>\n",
              "      <td>360.0</td>\n",
              "      <td>1.0</td>\n",
              "      <td>Urban</td>\n",
              "      <td>Y</td>\n",
              "    </tr>\n",
              "    <tr>\n",
              "      <th>4</th>\n",
              "      <td>LP001008</td>\n",
              "      <td>Male</td>\n",
              "      <td>No</td>\n",
              "      <td>0</td>\n",
              "      <td>Graduate</td>\n",
              "      <td>No</td>\n",
              "      <td>6000</td>\n",
              "      <td>0.0</td>\n",
              "      <td>141.0</td>\n",
              "      <td>360.0</td>\n",
              "      <td>1.0</td>\n",
              "      <td>Urban</td>\n",
              "      <td>Y</td>\n",
              "    </tr>\n",
              "    <tr>\n",
              "      <th>...</th>\n",
              "      <td>...</td>\n",
              "      <td>...</td>\n",
              "      <td>...</td>\n",
              "      <td>...</td>\n",
              "      <td>...</td>\n",
              "      <td>...</td>\n",
              "      <td>...</td>\n",
              "      <td>...</td>\n",
              "      <td>...</td>\n",
              "      <td>...</td>\n",
              "      <td>...</td>\n",
              "      <td>...</td>\n",
              "      <td>...</td>\n",
              "    </tr>\n",
              "    <tr>\n",
              "      <th>609</th>\n",
              "      <td>LP002978</td>\n",
              "      <td>Female</td>\n",
              "      <td>No</td>\n",
              "      <td>0</td>\n",
              "      <td>Graduate</td>\n",
              "      <td>No</td>\n",
              "      <td>2900</td>\n",
              "      <td>0.0</td>\n",
              "      <td>71.0</td>\n",
              "      <td>360.0</td>\n",
              "      <td>1.0</td>\n",
              "      <td>Rural</td>\n",
              "      <td>Y</td>\n",
              "    </tr>\n",
              "    <tr>\n",
              "      <th>610</th>\n",
              "      <td>LP002979</td>\n",
              "      <td>Male</td>\n",
              "      <td>Yes</td>\n",
              "      <td>3+</td>\n",
              "      <td>Graduate</td>\n",
              "      <td>No</td>\n",
              "      <td>4106</td>\n",
              "      <td>0.0</td>\n",
              "      <td>40.0</td>\n",
              "      <td>180.0</td>\n",
              "      <td>1.0</td>\n",
              "      <td>Rural</td>\n",
              "      <td>Y</td>\n",
              "    </tr>\n",
              "    <tr>\n",
              "      <th>611</th>\n",
              "      <td>LP002983</td>\n",
              "      <td>Male</td>\n",
              "      <td>Yes</td>\n",
              "      <td>1</td>\n",
              "      <td>Graduate</td>\n",
              "      <td>No</td>\n",
              "      <td>8072</td>\n",
              "      <td>240.0</td>\n",
              "      <td>253.0</td>\n",
              "      <td>360.0</td>\n",
              "      <td>1.0</td>\n",
              "      <td>Urban</td>\n",
              "      <td>Y</td>\n",
              "    </tr>\n",
              "    <tr>\n",
              "      <th>612</th>\n",
              "      <td>LP002984</td>\n",
              "      <td>Male</td>\n",
              "      <td>Yes</td>\n",
              "      <td>2</td>\n",
              "      <td>Graduate</td>\n",
              "      <td>No</td>\n",
              "      <td>7583</td>\n",
              "      <td>0.0</td>\n",
              "      <td>187.0</td>\n",
              "      <td>360.0</td>\n",
              "      <td>1.0</td>\n",
              "      <td>Urban</td>\n",
              "      <td>Y</td>\n",
              "    </tr>\n",
              "    <tr>\n",
              "      <th>613</th>\n",
              "      <td>LP002990</td>\n",
              "      <td>Female</td>\n",
              "      <td>No</td>\n",
              "      <td>0</td>\n",
              "      <td>Graduate</td>\n",
              "      <td>Yes</td>\n",
              "      <td>4583</td>\n",
              "      <td>0.0</td>\n",
              "      <td>133.0</td>\n",
              "      <td>360.0</td>\n",
              "      <td>0.0</td>\n",
              "      <td>Semiurban</td>\n",
              "      <td>N</td>\n",
              "    </tr>\n",
              "  </tbody>\n",
              "</table>\n",
              "<p>614 rows × 13 columns</p>\n",
              "</div>\n",
              "      <button class=\"colab-df-convert\" onclick=\"convertToInteractive('df-9c95eb6b-096a-491f-bd2d-aa2af0eaf3f8')\"\n",
              "              title=\"Convert this dataframe to an interactive table.\"\n",
              "              style=\"display:none;\">\n",
              "        \n",
              "  <svg xmlns=\"http://www.w3.org/2000/svg\" height=\"24px\"viewBox=\"0 0 24 24\"\n",
              "       width=\"24px\">\n",
              "    <path d=\"M0 0h24v24H0V0z\" fill=\"none\"/>\n",
              "    <path d=\"M18.56 5.44l.94 2.06.94-2.06 2.06-.94-2.06-.94-.94-2.06-.94 2.06-2.06.94zm-11 1L8.5 8.5l.94-2.06 2.06-.94-2.06-.94L8.5 2.5l-.94 2.06-2.06.94zm10 10l.94 2.06.94-2.06 2.06-.94-2.06-.94-.94-2.06-.94 2.06-2.06.94z\"/><path d=\"M17.41 7.96l-1.37-1.37c-.4-.4-.92-.59-1.43-.59-.52 0-1.04.2-1.43.59L10.3 9.45l-7.72 7.72c-.78.78-.78 2.05 0 2.83L4 21.41c.39.39.9.59 1.41.59.51 0 1.02-.2 1.41-.59l7.78-7.78 2.81-2.81c.8-.78.8-2.07 0-2.86zM5.41 20L4 18.59l7.72-7.72 1.47 1.35L5.41 20z\"/>\n",
              "  </svg>\n",
              "      </button>\n",
              "      \n",
              "  <style>\n",
              "    .colab-df-container {\n",
              "      display:flex;\n",
              "      flex-wrap:wrap;\n",
              "      gap: 12px;\n",
              "    }\n",
              "\n",
              "    .colab-df-convert {\n",
              "      background-color: #E8F0FE;\n",
              "      border: none;\n",
              "      border-radius: 50%;\n",
              "      cursor: pointer;\n",
              "      display: none;\n",
              "      fill: #1967D2;\n",
              "      height: 32px;\n",
              "      padding: 0 0 0 0;\n",
              "      width: 32px;\n",
              "    }\n",
              "\n",
              "    .colab-df-convert:hover {\n",
              "      background-color: #E2EBFA;\n",
              "      box-shadow: 0px 1px 2px rgba(60, 64, 67, 0.3), 0px 1px 3px 1px rgba(60, 64, 67, 0.15);\n",
              "      fill: #174EA6;\n",
              "    }\n",
              "\n",
              "    [theme=dark] .colab-df-convert {\n",
              "      background-color: #3B4455;\n",
              "      fill: #D2E3FC;\n",
              "    }\n",
              "\n",
              "    [theme=dark] .colab-df-convert:hover {\n",
              "      background-color: #434B5C;\n",
              "      box-shadow: 0px 1px 3px 1px rgba(0, 0, 0, 0.15);\n",
              "      filter: drop-shadow(0px 1px 2px rgba(0, 0, 0, 0.3));\n",
              "      fill: #FFFFFF;\n",
              "    }\n",
              "  </style>\n",
              "\n",
              "      <script>\n",
              "        const buttonEl =\n",
              "          document.querySelector('#df-9c95eb6b-096a-491f-bd2d-aa2af0eaf3f8 button.colab-df-convert');\n",
              "        buttonEl.style.display =\n",
              "          google.colab.kernel.accessAllowed ? 'block' : 'none';\n",
              "\n",
              "        async function convertToInteractive(key) {\n",
              "          const element = document.querySelector('#df-9c95eb6b-096a-491f-bd2d-aa2af0eaf3f8');\n",
              "          const dataTable =\n",
              "            await google.colab.kernel.invokeFunction('convertToInteractive',\n",
              "                                                     [key], {});\n",
              "          if (!dataTable) return;\n",
              "\n",
              "          const docLinkHtml = 'Like what you see? Visit the ' +\n",
              "            '<a target=\"_blank\" href=https://colab.research.google.com/notebooks/data_table.ipynb>data table notebook</a>'\n",
              "            + ' to learn more about interactive tables.';\n",
              "          element.innerHTML = '';\n",
              "          dataTable['output_type'] = 'display_data';\n",
              "          await google.colab.output.renderOutput(dataTable, element);\n",
              "          const docLink = document.createElement('div');\n",
              "          docLink.innerHTML = docLinkHtml;\n",
              "          element.appendChild(docLink);\n",
              "        }\n",
              "      </script>\n",
              "    </div>\n",
              "  </div>\n",
              "  "
            ]
          },
          "metadata": {},
          "execution_count": 5
        }
      ]
    },
    {
      "cell_type": "markdown",
      "source": [
        "# Data Exploratory"
      ],
      "metadata": {
        "id": "O2juo6yhoR7e"
      }
    },
    {
      "cell_type": "markdown",
      "source": [
        "## Categorical Variabel"
      ],
      "metadata": {
        "id": "xdlFpHlnoY5D"
      }
    },
    {
      "cell_type": "markdown",
      "source": [
        "Loan ID"
      ],
      "metadata": {
        "id": "Dd9uCSWcoeeA"
      }
    },
    {
      "cell_type": "code",
      "source": [
        "df.Loan_ID.value_counts(dropna=False)"
      ],
      "metadata": {
        "colab": {
          "base_uri": "https://localhost:8080/"
        },
        "id": "UaTyNHB2oUbh",
        "outputId": "98381a4e-0a2b-4620-93f4-45e148b9c916"
      },
      "execution_count": 6,
      "outputs": [
        {
          "output_type": "execute_result",
          "data": {
            "text/plain": [
              "LP001002    1\n",
              "LP002328    1\n",
              "LP002305    1\n",
              "LP002308    1\n",
              "LP002314    1\n",
              "           ..\n",
              "LP001692    1\n",
              "LP001693    1\n",
              "LP001698    1\n",
              "LP001699    1\n",
              "LP002990    1\n",
              "Name: Loan_ID, Length: 614, dtype: int64"
            ]
          },
          "metadata": {},
          "execution_count": 6
        }
      ]
    },
    {
      "cell_type": "markdown",
      "source": [
        "Gender"
      ],
      "metadata": {
        "id": "1QblFaQ5okcp"
      }
    },
    {
      "cell_type": "code",
      "source": [
        "df.Gender.value_counts(dropna=False)"
      ],
      "metadata": {
        "colab": {
          "base_uri": "https://localhost:8080/"
        },
        "id": "Fse-VHLhomLX",
        "outputId": "1e73626c-3783-41de-d5d4-f5c0d63a0da3"
      },
      "execution_count": 7,
      "outputs": [
        {
          "output_type": "execute_result",
          "data": {
            "text/plain": [
              "Male      489\n",
              "Female    112\n",
              "NaN        13\n",
              "Name: Gender, dtype: int64"
            ]
          },
          "metadata": {},
          "execution_count": 7
        }
      ]
    },
    {
      "cell_type": "code",
      "source": [
        "sns.countplot(x=\"Gender\", data=df, palette=\"hls\")\n",
        "plt.show()"
      ],
      "metadata": {
        "colab": {
          "base_uri": "https://localhost:8080/",
          "height": 279
        },
        "id": "D7_h-1EYopmF",
        "outputId": "1f7f1c71-2c3a-43bd-be2f-0a67543e87b3"
      },
      "execution_count": 8,
      "outputs": [
        {
          "output_type": "display_data",
          "data": {
            "text/plain": [
              "<Figure size 432x288 with 1 Axes>"
            ],
            "image/png": "[encoded data removed]"
          },
          "metadata": {
            "needs_background": "light"
          }
        }
      ]
    },
    {
      "cell_type": "code",
      "source": [
        "countMale = len(df[df.Gender == 'Male'])\n",
        "countFemale = len(df[df.Gender == 'Female'])\n",
        "countNull = len(df[df.Gender.isnull()])\n",
        "\n",
        "print(\"Percentage of Male applicant: {:.2f}%\".format((countMale / (len(df.Gender))*100)))\n",
        "print(\"Percentage of Female applicant: {:.2f}%\".format((countFemale / (len(df.Gender))*100)))\n",
        "print(\"Missing values percentage: {:.2f}%\".format((countNull / (len(df.Gender))*100)))"
      ],
      "metadata": {
        "colab": {
          "base_uri": "https://localhost:8080/"
        },
        "id": "lnJA9IXXosxU",
        "outputId": "44ac3f99-40d5-4d70-aab1-876e65e9085b"
      },
      "execution_count": 9,
      "outputs": [
        {
          "output_type": "stream",
          "name": "stdout",
          "text": [
            "Percentage of Male applicant: 79.64%\n",
            "Percentage of Female applicant: 18.24%\n",
            "Missing values percentage: 2.12%\n"
          ]
        }
      ]
    },
    {
      "cell_type": "markdown",
      "source": [
        "Married"
      ],
      "metadata": {
        "id": "pysE1NvCovGG"
      }
    },
    {
      "cell_type": "code",
      "source": [
        "df.Married.value_counts(dropna=False)"
      ],
      "metadata": {
        "colab": {
          "base_uri": "https://localhost:8080/"
        },
        "id": "vuZ39KAcowAm",
        "outputId": "e4043a64-18bb-440c-8009-27b1f07b03a7"
      },
      "execution_count": 10,
      "outputs": [
        {
          "output_type": "execute_result",
          "data": {
            "text/plain": [
              "Yes    398\n",
              "No     213\n",
              "NaN      3\n",
              "Name: Married, dtype: int64"
            ]
          },
          "metadata": {},
          "execution_count": 10
        }
      ]
    },
    {
      "cell_type": "code",
      "source": [
        "sns.countplot(x=\"Married\", data=df, palette=\"Paired\")\n",
        "plt.show()"
      ],
      "metadata": {
        "colab": {
          "base_uri": "https://localhost:8080/",
          "height": 279
        },
        "id": "nO57PG_EozB8",
        "outputId": "0d40abe4-004c-45b1-a598-98804625306f"
      },
      "execution_count": 11,
      "outputs": [
        {
          "output_type": "display_data",
          "data": {
            "text/plain": [
              "<Figure size 432x288 with 1 Axes>"
            ],
            "image/png": "[encoded data removed]"
          },
          "metadata": {
            "needs_background": "light"
          }
        }
      ]
    },
    {
      "cell_type": "code",
      "source": [
        "countMarried = len(df[df.Married == 'Yes'])\n",
        "countNotMarried = len(df[df.Married == 'No'])\n",
        "countNull = len(df[df.Married.isnull()])\n",
        "\n",
        "print(\"Percentage of married: {:.2f}%\".format((countMarried / (len(df.Married))*100)))\n",
        "print(\"Percentage of Not married applicant: {:.2f}%\".format((countNotMarried / (len(df.Married))*100)))\n",
        "print(\"Missing values percentage: {:.2f}%\".format((countNull / (len(df.Married))*100)))\n"
      ],
      "metadata": {
        "colab": {
          "base_uri": "https://localhost:8080/"
        },
        "id": "7jKufjb6o1P0",
        "outputId": "a5152548-e1d7-4949-96a0-d9ed1809edb1"
      },
      "execution_count": 12,
      "outputs": [
        {
          "output_type": "stream",
          "name": "stdout",
          "text": [
            "Percentage of married: 64.82%\n",
            "Percentage of Not married applicant: 34.69%\n",
            "Missing values percentage: 0.49%\n"
          ]
        }
      ]
    },
    {
      "cell_type": "markdown",
      "source": [
        "Education"
      ],
      "metadata": {
        "id": "EPfJ0fQgo64D"
      }
    },
    {
      "cell_type": "code",
      "source": [
        "df.Education.value_counts(dropna=False)"
      ],
      "metadata": {
        "colab": {
          "base_uri": "https://localhost:8080/"
        },
        "id": "fPgi2JN7o7t9",
        "outputId": "f8b1ebf2-f7f7-4a7b-ebe4-8360c82917c0"
      },
      "execution_count": 13,
      "outputs": [
        {
          "output_type": "execute_result",
          "data": {
            "text/plain": [
              "Graduate        480\n",
              "Not Graduate    134\n",
              "Name: Education, dtype: int64"
            ]
          },
          "metadata": {},
          "execution_count": 13
        }
      ]
    },
    {
      "cell_type": "code",
      "source": [
        "sns.countplot(x=\"Education\", data=df, palette=\"rocket\")\n",
        "plt.show()"
      ],
      "metadata": {
        "colab": {
          "base_uri": "https://localhost:8080/",
          "height": 282
        },
        "id": "OD9WQczHo9rL",
        "outputId": "1236c13e-2a1d-4e18-e6f2-59fe24110c3c"
      },
      "execution_count": 14,
      "outputs": [
        {
          "output_type": "display_data",
          "data": {
            "text/plain": [
              "<Figure size 432x288 with 1 Axes>"
            ],
            "image/png": "[encoded data removed]"
          },
          "metadata": {
            "needs_background": "light"
          }
        }
      ]
    },
    {
      "cell_type": "code",
      "source": [
        "countGraduate = len(df[df.Education == 'Graduate'])\n",
        "countNotGraduate = len(df[df.Education == 'Not Graduate'])\n",
        "countNull = len(df[df.Education.isnull()])\n",
        "\n",
        "print(\"Percentage of graduate applicant: {:.2f}%\".format((countGraduate / (len(df.Education))*100)))\n",
        "print(\"Percentage of Not graduate applicant: {:.2f}%\".format((countNotGraduate / (len(df.Education))*100)))\n",
        "print(\"Missing values percentage: {:.2f}%\".format((countNull / (len(df.Education))*100)))"
      ],
      "metadata": {
        "colab": {
          "base_uri": "https://localhost:8080/"
        },
        "id": "Tn_5wP_7o_21",
        "outputId": "e92a5b14-78ee-46b0-bd1d-7f1af455e1e0"
      },
      "execution_count": 15,
      "outputs": [
        {
          "output_type": "stream",
          "name": "stdout",
          "text": [
            "Percentage of graduate applicant: 78.18%\n",
            "Percentage of Not graduate applicant: 21.82%\n",
            "Missing values percentage: 0.00%\n"
          ]
        }
      ]
    },
    {
      "cell_type": "markdown",
      "source": [
        "Self Employed"
      ],
      "metadata": {
        "id": "1ETRBuCspCau"
      }
    },
    {
      "cell_type": "code",
      "source": [
        "df.Self_Employed.value_counts(dropna=False)"
      ],
      "metadata": {
        "colab": {
          "base_uri": "https://localhost:8080/"
        },
        "id": "mwS0tFcopFbS",
        "outputId": "62624f49-83be-4ad5-ccdd-9f6020f6e828"
      },
      "execution_count": 16,
      "outputs": [
        {
          "output_type": "execute_result",
          "data": {
            "text/plain": [
              "No     500\n",
              "Yes     82\n",
              "NaN     32\n",
              "Name: Self_Employed, dtype: int64"
            ]
          },
          "metadata": {},
          "execution_count": 16
        }
      ]
    },
    {
      "cell_type": "code",
      "source": [
        "sns.countplot(x=\"Self_Employed\", data=df, palette=\"crest\")\n",
        "plt.show()"
      ],
      "metadata": {
        "colab": {
          "base_uri": "https://localhost:8080/",
          "height": 280
        },
        "id": "-4R1iw3-pIR2",
        "outputId": "747745c4-f00f-4df5-ca38-f7f3aa8ef07f"
      },
      "execution_count": 17,
      "outputs": [
        {
          "output_type": "display_data",
          "data": {
            "text/plain": [
              "<Figure size 432x288 with 1 Axes>"
            ],
            "image/png": "[encoded data removed]"
          },
          "metadata": {
            "needs_background": "light"
          }
        }
      ]
    },
    {
      "cell_type": "code",
      "source": [
        "countNo = len(df[df.Self_Employed == 'No'])\n",
        "countYes = len(df[df.Self_Employed == 'Yes'])\n",
        "countNull = len(df[df.Self_Employed.isnull()])\n",
        "\n",
        "print(\"Percentage of Not self employed: {:.2f}%\".format((countNo / (len(df.Self_Employed))*100)))\n",
        "print(\"Percentage of self employed: {:.2f}%\".format((countYes / (len(df.Self_Employed))*100)))\n",
        "print(\"Missing values percentage: {:.2f}%\".format((countNull / (len(df.Self_Employed))*100)))"
      ],
      "metadata": {
        "colab": {
          "base_uri": "https://localhost:8080/"
        },
        "id": "UlCestBVpKK9",
        "outputId": "df6d5201-c4d0-42b2-bc30-c82a1ad68d7d"
      },
      "execution_count": 18,
      "outputs": [
        {
          "output_type": "stream",
          "name": "stdout",
          "text": [
            "Percentage of Not self employed: 81.43%\n",
            "Percentage of self employed: 13.36%\n",
            "Missing values percentage: 5.21%\n"
          ]
        }
      ]
    },
    {
      "cell_type": "markdown",
      "source": [
        "Credit History"
      ],
      "metadata": {
        "id": "0DgvTnJwpMIi"
      }
    },
    {
      "cell_type": "code",
      "source": [
        "df.Credit_History.value_counts(dropna=False)"
      ],
      "metadata": {
        "colab": {
          "base_uri": "https://localhost:8080/"
        },
        "id": "1UvpMSfOpOoS",
        "outputId": "987a8379-3af9-41f6-fc9b-2aa80327c19b"
      },
      "execution_count": 19,
      "outputs": [
        {
          "output_type": "execute_result",
          "data": {
            "text/plain": [
              "1.0    475\n",
              "0.0     89\n",
              "NaN     50\n",
              "Name: Credit_History, dtype: int64"
            ]
          },
          "metadata": {},
          "execution_count": 19
        }
      ]
    },
    {
      "cell_type": "code",
      "source": [
        "sns.countplot(x=\"Credit_History\", data=df, palette=\"viridis\")\n",
        "plt.show()"
      ],
      "metadata": {
        "colab": {
          "base_uri": "https://localhost:8080/",
          "height": 280
        },
        "id": "pjM8SL73pRjK",
        "outputId": "503a3dc5-c1a0-4c12-ca8d-05324e8160ac"
      },
      "execution_count": 20,
      "outputs": [
        {
          "output_type": "display_data",
          "data": {
            "text/plain": [
              "<Figure size 432x288 with 1 Axes>"
            ],
            "image/png": "[encoded data removed]"
          },
          "metadata": {
            "needs_background": "light"
          }
        }
      ]
    },
    {
      "cell_type": "code",
      "source": [
        "count1 = len(df[df.Credit_History == 1])\n",
        "count0 = len(df[df.Credit_History == 0])\n",
        "countNull = len(df[df.Credit_History.isnull()])\n",
        "\n",
        "print(\"Percentage of Good credit history: {:.2f}%\".format((count1 / (len(df.Credit_History))*100)))\n",
        "print(\"Percentage of Bad credit history: {:.2f}%\".format((count0 / (len(df.Credit_History))*100)))\n",
        "print(\"Missing values percentage: {:.2f}%\".format((countNull / (len(df.Credit_History))*100)))"
      ],
      "metadata": {
        "colab": {
          "base_uri": "https://localhost:8080/"
        },
        "id": "KGQqSpT4pT9j",
        "outputId": "191636a8-51ce-4066-fbe6-efad6d6ca265"
      },
      "execution_count": 21,
      "outputs": [
        {
          "output_type": "stream",
          "name": "stdout",
          "text": [
            "Percentage of Good credit history: 77.36%\n",
            "Percentage of Bad credit history: 14.50%\n",
            "Missing values percentage: 8.14%\n"
          ]
        }
      ]
    },
    {
      "cell_type": "markdown",
      "source": [
        "Property Area"
      ],
      "metadata": {
        "id": "FefIURd-pX-P"
      }
    },
    {
      "cell_type": "code",
      "source": [
        "df.Property_Area.value_counts(dropna=False)"
      ],
      "metadata": {
        "colab": {
          "base_uri": "https://localhost:8080/"
        },
        "id": "jTQOEc-npahO",
        "outputId": "0ea4318f-57e3-4a2f-a729-110dd04787ec"
      },
      "execution_count": 22,
      "outputs": [
        {
          "output_type": "execute_result",
          "data": {
            "text/plain": [
              "Semiurban    233\n",
              "Urban        202\n",
              "Rural        179\n",
              "Name: Property_Area, dtype: int64"
            ]
          },
          "metadata": {},
          "execution_count": 22
        }
      ]
    },
    {
      "cell_type": "code",
      "source": [
        "sns.countplot(x=\"Property_Area\", data=df, palette=\"cubehelix\")\n",
        "plt.show()"
      ],
      "metadata": {
        "colab": {
          "base_uri": "https://localhost:8080/",
          "height": 280
        },
        "id": "6ByWvt-zpcz-",
        "outputId": "e71b46a0-3f25-4392-a26d-6d28e94f7a97"
      },
      "execution_count": 23,
      "outputs": [
        {
          "output_type": "display_data",
          "data": {
            "text/plain": [
              "<Figure size 432x288 with 1 Axes>"
            ],
            "image/png": "[encoded data removed]"
          },
          "metadata": {
            "needs_background": "light"
          }
        }
      ]
    },
    {
      "cell_type": "code",
      "source": [
        "countUrban = len(df[df.Property_Area == 'Urban'])\n",
        "countRural = len(df[df.Property_Area == 'Rural'])\n",
        "countSemiurban = len(df[df.Property_Area == 'Semiurban'])\n",
        "countNull = len(df[df.Property_Area.isnull()])\n",
        "\n",
        "print(\"Percentage of Urban: {:.2f}%\".format((countUrban / (len(df.Property_Area))*100)))\n",
        "print(\"Percentage of Rural: {:.2f}%\".format((countRural / (len(df.Property_Area))*100)))\n",
        "print(\"Percentage of Semiurban: {:.2f}%\".format((countSemiurban / (len(df.Property_Area))*100)))\n",
        "print(\"Missing values percentage: {:.2f}%\".format((countNull / (len(df.Property_Area))*100)))"
      ],
      "metadata": {
        "colab": {
          "base_uri": "https://localhost:8080/"
        },
        "id": "7X--5orBpfSV",
        "outputId": "0c864d3f-c78d-48a7-8252-40b76d31a9be"
      },
      "execution_count": 24,
      "outputs": [
        {
          "output_type": "stream",
          "name": "stdout",
          "text": [
            "Percentage of Urban: 32.90%\n",
            "Percentage of Rural: 29.15%\n",
            "Percentage of Semiurban: 37.95%\n",
            "Missing values percentage: 0.00%\n"
          ]
        }
      ]
    },
    {
      "cell_type": "markdown",
      "source": [
        "Load Status"
      ],
      "metadata": {
        "id": "h0K3pX1Jph1J"
      }
    },
    {
      "cell_type": "code",
      "source": [
        "df.Loan_Status.value_counts(dropna=False)"
      ],
      "metadata": {
        "colab": {
          "base_uri": "https://localhost:8080/"
        },
        "id": "lh0piYXrpitL",
        "outputId": "66ffd2dd-5078-4801-fad6-20323d678a08"
      },
      "execution_count": 25,
      "outputs": [
        {
          "output_type": "execute_result",
          "data": {
            "text/plain": [
              "Y    422\n",
              "N    192\n",
              "Name: Loan_Status, dtype: int64"
            ]
          },
          "metadata": {},
          "execution_count": 25
        }
      ]
    },
    {
      "cell_type": "code",
      "source": [
        "sns.countplot(x=\"Loan_Status\", data=df, palette=\"YlOrBr\")\n",
        "plt.show()"
      ],
      "metadata": {
        "colab": {
          "base_uri": "https://localhost:8080/",
          "height": 280
        },
        "id": "Oj8Pfm7mpk9T",
        "outputId": "e9061a20-be19-4584-b90b-dfd9c4044257"
      },
      "execution_count": 26,
      "outputs": [
        {
          "output_type": "display_data",
          "data": {
            "text/plain": [
              "<Figure size 432x288 with 1 Axes>"
            ],
            "image/png": "[encoded data removed]"
          },
          "metadata": {
            "needs_background": "light"
          }
        }
      ]
    },
    {
      "cell_type": "code",
      "source": [
        "countY = len(df[df.Loan_Status == 'Y'])\n",
        "countN = len(df[df.Loan_Status == 'N'])\n",
        "countNull = len(df[df.Loan_Status.isnull()])\n",
        "\n",
        "print(\"Percentage of Approved: {:.2f}%\".format((countY / (len(df.Loan_Status))*100)))\n",
        "print(\"Percentage of Rejected: {:.2f}%\".format((countN / (len(df.Loan_Status))*100)))\n",
        "print(\"Missing values percentage: {:.2f}%\".format((countNull / (len(df.Loan_Status))*100)))"
      ],
      "metadata": {
        "colab": {
          "base_uri": "https://localhost:8080/"
        },
        "id": "PP9UcVIgpmLM",
        "outputId": "4fbf71ec-a62b-4c43-c244-d10778435cb1"
      },
      "execution_count": 27,
      "outputs": [
        {
          "output_type": "stream",
          "name": "stdout",
          "text": [
            "Percentage of Approved: 68.73%\n",
            "Percentage of Rejected: 31.27%\n",
            "Missing values percentage: 0.00%\n"
          ]
        }
      ]
    },
    {
      "cell_type": "markdown",
      "source": [
        "Loan Amount Term"
      ],
      "metadata": {
        "id": "IxOAaqtopkd5"
      }
    },
    {
      "cell_type": "code",
      "source": [
        "df.Loan_Amount_Term.value_counts(dropna=False)"
      ],
      "metadata": {
        "colab": {
          "base_uri": "https://localhost:8080/"
        },
        "id": "J05h3BtYprt7",
        "outputId": "8eb0d0da-f8f4-41f3-a80e-a2548ec19c22"
      },
      "execution_count": 28,
      "outputs": [
        {
          "output_type": "execute_result",
          "data": {
            "text/plain": [
              "360.0    512\n",
              "180.0     44\n",
              "480.0     15\n",
              "NaN       14\n",
              "300.0     13\n",
              "240.0      4\n",
              "84.0       4\n",
              "120.0      3\n",
              "60.0       2\n",
              "36.0       2\n",
              "12.0       1\n",
              "Name: Loan_Amount_Term, dtype: int64"
            ]
          },
          "metadata": {},
          "execution_count": 28
        }
      ]
    },
    {
      "cell_type": "code",
      "source": [
        "sns.countplot(x=\"Loan_Amount_Term\", data=df, palette=\"rocket\")\n",
        "plt.show()"
      ],
      "metadata": {
        "colab": {
          "base_uri": "https://localhost:8080/",
          "height": 280
        },
        "id": "Ddpn5uf6ptZY",
        "outputId": "18f02991-1c59-46bc-c851-a287509893fc"
      },
      "execution_count": 29,
      "outputs": [
        {
          "output_type": "display_data",
          "data": {
            "text/plain": [
              "<Figure size 432x288 with 1 Axes>"
            ],
            "image/png": "[encoded data removed]"
          },
          "metadata": {
            "needs_background": "light"
          }
        }
      ]
    },
    {
      "cell_type": "markdown",
      "source": [
        "## Numerical Variable"
      ],
      "metadata": {
        "id": "5TFzB0wwpySy"
      }
    },
    {
      "cell_type": "markdown",
      "source": [
        "Describe"
      ],
      "metadata": {
        "id": "jBsiZOoFp3Tc"
      }
    },
    {
      "cell_type": "code",
      "source": [
        "df[['ApplicantIncome','CoapplicantIncome','LoanAmount']].describe()"
      ],
      "metadata": {
        "colab": {
          "base_uri": "https://localhost:8080/",
          "height": 300
        },
        "id": "0ySVatdop1E3",
        "outputId": "68a65ab1-7c1b-4764-ae37-567e1bb6f86c"
      },
      "execution_count": 30,
      "outputs": [
        {
          "output_type": "execute_result",
          "data": {
            "text/plain": [
              "       ApplicantIncome  CoapplicantIncome  LoanAmount\n",
              "count       614.000000         614.000000  592.000000\n",
              "mean       5403.459283        1621.245798  146.412162\n",
              "std        6109.041673        2926.248369   85.587325\n",
              "min         150.000000           0.000000    9.000000\n",
              "25%        2877.500000           0.000000  100.000000\n",
              "50%        3812.500000        1188.500000  128.000000\n",
              "75%        5795.000000        2297.250000  168.000000\n",
              "max       81000.000000       41667.000000  700.000000"
            ],
            "text/html": [
              "\n",
              "  <div id=\"df-22f7c679-712e-4a52-b303-0bfda7232720\">\n",
              "    <div class=\"colab-df-container\">\n",
              "      <div>\n",
              "<style scoped>\n",
              "    .dataframe tbody tr th:only-of-type {\n",
              "        vertical-align: middle;\n",
              "    }\n",
              "\n",
              "    .dataframe tbody tr th {\n",
              "        vertical-align: top;\n",
              "    }\n",
              "\n",
              "    .dataframe thead th {\n",
              "        text-align: right;\n",
              "    }\n",
              "</style>\n",
              "<table border=\"1\" class=\"dataframe\">\n",
              "  <thead>\n",
              "    <tr style=\"text-align: right;\">\n",
              "      <th></th>\n",
              "      <th>ApplicantIncome</th>\n",
              "      <th>CoapplicantIncome</th>\n",
              "      <th>LoanAmount</th>\n",
              "    </tr>\n",
              "  </thead>\n",
              "  <tbody>\n",
              "    <tr>\n",
              "      <th>count</th>\n",
              "      <td>614.000000</td>\n",
              "      <td>614.000000</td>\n",
              "      <td>592.000000</td>\n",
              "    </tr>\n",
              "    <tr>\n",
              "      <th>mean</th>\n",
              "      <td>5403.459283</td>\n",
              "      <td>1621.245798</td>\n",
              "      <td>146.412162</td>\n",
              "    </tr>\n",
              "    <tr>\n",
              "      <th>std</th>\n",
              "      <td>6109.041673</td>\n",
              "      <td>2926.248369</td>\n",
              "      <td>85.587325</td>\n",
              "    </tr>\n",
              "    <tr>\n",
              "      <th>min</th>\n",
              "      <td>150.000000</td>\n",
              "      <td>0.000000</td>\n",
              "      <td>9.000000</td>\n",
              "    </tr>\n",
              "    <tr>\n",
              "      <th>25%</th>\n",
              "      <td>2877.500000</td>\n",
              "      <td>0.000000</td>\n",
              "      <td>100.000000</td>\n",
              "    </tr>\n",
              "    <tr>\n",
              "      <th>50%</th>\n",
              "      <td>3812.500000</td>\n",
              "      <td>1188.500000</td>\n",
              "      <td>128.000000</td>\n",
              "    </tr>\n",
              "    <tr>\n",
              "      <th>75%</th>\n",
              "      <td>5795.000000</td>\n",
              "      <td>2297.250000</td>\n",
              "      <td>168.000000</td>\n",
              "    </tr>\n",
              "    <tr>\n",
              "      <th>max</th>\n",
              "      <td>81000.000000</td>\n",
              "      <td>41667.000000</td>\n",
              "      <td>700.000000</td>\n",
              "    </tr>\n",
              "  </tbody>\n",
              "</table>\n",
              "</div>\n",
              "      <button class=\"colab-df-convert\" onclick=\"convertToInteractive('df-22f7c679-712e-4a52-b303-0bfda7232720')\"\n",
              "              title=\"Convert this dataframe to an interactive table.\"\n",
              "              style=\"display:none;\">\n",
              "        \n",
              "  <svg xmlns=\"http://www.w3.org/2000/svg\" height=\"24px\"viewBox=\"0 0 24 24\"\n",
              "       width=\"24px\">\n",
              "    <path d=\"M0 0h24v24H0V0z\" fill=\"none\"/>\n",
              "    <path d=\"M18.56 5.44l.94 2.06.94-2.06 2.06-.94-2.06-.94-.94-2.06-.94 2.06-2.06.94zm-11 1L8.5 8.5l.94-2.06 2.06-.94-2.06-.94L8.5 2.5l-.94 2.06-2.06.94zm10 10l.94 2.06.94-2.06 2.06-.94-2.06-.94-.94-2.06-.94 2.06-2.06.94z\"/><path d=\"M17.41 7.96l-1.37-1.37c-.4-.4-.92-.59-1.43-.59-.52 0-1.04.2-1.43.59L10.3 9.45l-7.72 7.72c-.78.78-.78 2.05 0 2.83L4 21.41c.39.39.9.59 1.41.59.51 0 1.02-.2 1.41-.59l7.78-7.78 2.81-2.81c.8-.78.8-2.07 0-2.86zM5.41 20L4 18.59l7.72-7.72 1.47 1.35L5.41 20z\"/>\n",
              "  </svg>\n",
              "      </button>\n",
              "      \n",
              "  <style>\n",
              "    .colab-df-container {\n",
              "      display:flex;\n",
              "      flex-wrap:wrap;\n",
              "      gap: 12px;\n",
              "    }\n",
              "\n",
              "    .colab-df-convert {\n",
              "      background-color: #E8F0FE;\n",
              "      border: none;\n",
              "      border-radius: 50%;\n",
              "      cursor: pointer;\n",
              "      display: none;\n",
              "      fill: #1967D2;\n",
              "      height: 32px;\n",
              "      padding: 0 0 0 0;\n",
              "      width: 32px;\n",
              "    }\n",
              "\n",
              "    .colab-df-convert:hover {\n",
              "      background-color: #E2EBFA;\n",
              "      box-shadow: 0px 1px 2px rgba(60, 64, 67, 0.3), 0px 1px 3px 1px rgba(60, 64, 67, 0.15);\n",
              "      fill: #174EA6;\n",
              "    }\n",
              "\n",
              "    [theme=dark] .colab-df-convert {\n",
              "      background-color: #3B4455;\n",
              "      fill: #D2E3FC;\n",
              "    }\n",
              "\n",
              "    [theme=dark] .colab-df-convert:hover {\n",
              "      background-color: #434B5C;\n",
              "      box-shadow: 0px 1px 3px 1px rgba(0, 0, 0, 0.15);\n",
              "      filter: drop-shadow(0px 1px 2px rgba(0, 0, 0, 0.3));\n",
              "      fill: #FFFFFF;\n",
              "    }\n",
              "  </style>\n",
              "\n",
              "      <script>\n",
              "        const buttonEl =\n",
              "          document.querySelector('#df-22f7c679-712e-4a52-b303-0bfda7232720 button.colab-df-convert');\n",
              "        buttonEl.style.display =\n",
              "          google.colab.kernel.accessAllowed ? 'block' : 'none';\n",
              "\n",
              "        async function convertToInteractive(key) {\n",
              "          const element = document.querySelector('#df-22f7c679-712e-4a52-b303-0bfda7232720');\n",
              "          const dataTable =\n",
              "            await google.colab.kernel.invokeFunction('convertToInteractive',\n",
              "                                                     [key], {});\n",
              "          if (!dataTable) return;\n",
              "\n",
              "          const docLinkHtml = 'Like what you see? Visit the ' +\n",
              "            '<a target=\"_blank\" href=https://colab.research.google.com/notebooks/data_table.ipynb>data table notebook</a>'\n",
              "            + ' to learn more about interactive tables.';\n",
              "          element.innerHTML = '';\n",
              "          dataTable['output_type'] = 'display_data';\n",
              "          await google.colab.output.renderOutput(dataTable, element);\n",
              "          const docLink = document.createElement('div');\n",
              "          docLink.innerHTML = docLinkHtml;\n",
              "          element.appendChild(docLink);\n",
              "        }\n",
              "      </script>\n",
              "    </div>\n",
              "  </div>\n",
              "  "
            ]
          },
          "metadata": {},
          "execution_count": 30
        }
      ]
    },
    {
      "cell_type": "markdown",
      "source": [
        "Histogram Distribution"
      ],
      "metadata": {
        "id": "rOiaTnXtqOWd"
      }
    },
    {
      "cell_type": "code",
      "source": [
        "sns.set(style=\"darkgrid\")\n",
        "fig, axs = plt.subplots(2, 2, figsize=(10, 8))\n",
        "\n",
        "sns.histplot(data=df, x=\"ApplicantIncome\", kde=True, ax=axs[0, 0], color='green')\n",
        "sns.histplot(data=df, x=\"CoapplicantIncome\", kde=True, ax=axs[0, 1], color='skyblue')\n",
        "sns.histplot(data=df, x=\"LoanAmount\", kde=True, ax=axs[1, 0], color='orange');"
      ],
      "metadata": {
        "colab": {
          "base_uri": "https://localhost:8080/",
          "height": 505
        },
        "id": "YbvyUKe9qQMl",
        "outputId": "d25e4d64-2ffe-4a9d-9885-83b1af0cb752"
      },
      "execution_count": 31,
      "outputs": [
        {
          "output_type": "display_data",
          "data": {
            "text/plain": [
              "<Figure size 720x576 with 4 Axes>"
            ],
            "image/png": "[encoded data removed]"
          },
          "metadata": {}
        }
      ]
    },
    {
      "cell_type": "markdown",
      "source": [
        "Violin Plot Distribution"
      ],
      "metadata": {
        "id": "3gG2tmFkqVXs"
      }
    },
    {
      "cell_type": "code",
      "source": [
        "sns.set(style=\"darkgrid\")\n",
        "fig, axs1 = plt.subplots(2, 2, figsize=(10, 10))\n",
        "\n",
        "sns.violinplot(data=df, y=\"ApplicantIncome\", ax=axs1[0, 0], color='green')\n",
        "sns.violinplot(data=df, y=\"CoapplicantIncome\", ax=axs1[0, 1], color='skyblue')\n",
        "sns.violinplot(data=df, y=\"LoanAmount\", ax=axs1[1, 0], color='orange');"
      ],
      "metadata": {
        "colab": {
          "base_uri": "https://localhost:8080/",
          "height": 594
        },
        "id": "IqPU9cy9qUxg",
        "outputId": "be9969f7-0930-497f-bd5c-03844836cb1d"
      },
      "execution_count": 32,
      "outputs": [
        {
          "output_type": "display_data",
          "data": {
            "text/plain": [
              "<Figure size 720x720 with 4 Axes>"
            ],
            "image/png": "[encoded data removed]"
          },
          "metadata": {}
        }
      ]
    },
    {
      "cell_type": "markdown",
      "source": [
        "1. The distribution of Applicant income, Co Applicant Income, and Loan Amount are positively skewed and it has outliers (can be seen from both histogram and violin plot).\n",
        "2. The distribution of Loan Amount Term is negativly skewed and it has outliers."
      ],
      "metadata": {
        "id": "lHVTXMj2qa2m"
      }
    },
    {
      "cell_type": "markdown",
      "source": [
        "## Exploration"
      ],
      "metadata": {
        "id": "gaDW1R7SqmDk"
      }
    },
    {
      "cell_type": "markdown",
      "source": [
        "Heatmap"
      ],
      "metadata": {
        "id": "WBhEKXZvqrL_"
      }
    },
    {
      "cell_type": "code",
      "source": [
        "plt.figure(figsize=(10,7))\n",
        "sns.heatmap(df.corr(), annot=True, cmap='inferno');"
      ],
      "metadata": {
        "colab": {
          "base_uri": "https://localhost:8080/",
          "height": 532
        },
        "id": "5si1FoVqqjyL",
        "outputId": "3b354c4d-42bd-4810-b451-896419991c58"
      },
      "execution_count": 33,
      "outputs": [
        {
          "output_type": "display_data",
          "data": {
            "text/plain": [
              "<Figure size 720x504 with 2 Axes>"
            ],
            "image/png": "[encoded data removed]"
          },
          "metadata": {}
        }
      ]
    },
    {
      "cell_type": "markdown",
      "source": [
        "Null Values"
      ],
      "metadata": {
        "id": "RBrj-E5rrBzM"
      }
    },
    {
      "cell_type": "code",
      "source": [
        "plt.figure(figsize = (24, 5))\n",
        "axz = plt.subplot(1,2,2)\n",
        "mso.bar(df, ax = axz, fontsize = 12);"
      ],
      "metadata": {
        "colab": {
          "base_uri": "https://localhost:8080/",
          "height": 439
        },
        "id": "GdglayE-rC7g",
        "outputId": "1b073fbd-e9f5-4d7e-d1e7-1f5bee94dc48"
      },
      "execution_count": 34,
      "outputs": [
        {
          "output_type": "display_data",
          "data": {
            "text/plain": [
              "<Figure size 1728x360 with 3 Axes>"
            ],
            "image/png": "[encoded data removed]"
          },
          "metadata": {}
        }
      ]
    },
    {
      "cell_type": "markdown",
      "source": [
        "# Data Cleaning"
      ],
      "metadata": {
        "id": "afdlvjTerI5T"
      }
    },
    {
      "cell_type": "markdown",
      "source": [
        "## Drop Unecessary Variable"
      ],
      "metadata": {
        "id": "88xHRQCvrRRt"
      }
    },
    {
      "cell_type": "code",
      "source": [
        "df = df.drop(['Loan_ID'], axis = 1)"
      ],
      "metadata": {
        "id": "zTLsYGxzrLZa"
      },
      "execution_count": 35,
      "outputs": []
    },
    {
      "cell_type": "markdown",
      "source": [
        "## Data Imputation"
      ],
      "metadata": {
        "id": "T4t54pixrYv6"
      }
    },
    {
      "cell_type": "markdown",
      "source": [
        "Categorical Variables"
      ],
      "metadata": {
        "id": "LN71PbGkraeD"
      }
    },
    {
      "cell_type": "code",
      "source": [
        "df['Gender'].fillna(df['Gender'].mode()[0],inplace=True)\n",
        "df['Married'].fillna(df['Married'].mode()[0],inplace=True)\n",
        "df['Dependents'].fillna(df['Dependents'].mode()[0],inplace=True)\n",
        "df['Self_Employed'].fillna(df['Self_Employed'].mode()[0],inplace=True)\n",
        "df['Credit_History'].fillna(df['Credit_History'].mode()[0],inplace=True)\n",
        "df['Loan_Amount_Term'].fillna(df['Loan_Amount_Term'].mode()[0],inplace=True)"
      ],
      "metadata": {
        "id": "cTCyN_MlrZ7U"
      },
      "execution_count": 36,
      "outputs": []
    },
    {
      "cell_type": "markdown",
      "source": [
        "Numerical Variables"
      ],
      "metadata": {
        "id": "XWoLW2SorfgN"
      }
    },
    {
      "cell_type": "code",
      "source": [
        "df['LoanAmount'].fillna(df['LoanAmount'].mean(),inplace=True)"
      ],
      "metadata": {
        "id": "ToY6ufy9rhnk"
      },
      "execution_count": 37,
      "outputs": []
    },
    {
      "cell_type": "markdown",
      "source": [
        "## One-hot Encoding"
      ],
      "metadata": {
        "id": "HIJYmsQ1rr3b"
      }
    },
    {
      "cell_type": "code",
      "source": [
        "df = pd.get_dummies(df)\n",
        "\n",
        "# Drop columns\n",
        "df = df.drop(['Gender_Female', 'Married_No', 'Education_Not Graduate', \n",
        "              'Self_Employed_No', 'Loan_Status_N'], axis = 1)\n",
        "\n",
        "# Rename columns name\n",
        "new = {'Gender_Male': 'Gender', 'Married_Yes': 'Married', \n",
        "       'Education_Graduate': 'Education', 'Self_Employed_Yes': 'Self_Employed',\n",
        "       'Loan_Status_Y': 'Loan_Status'}\n",
        "       \n",
        "df.rename(columns=new, inplace=True)"
      ],
      "metadata": {
        "id": "UuwTd5X0ruDl"
      },
      "execution_count": 38,
      "outputs": []
    },
    {
      "cell_type": "markdown",
      "source": [
        "## Remove Outliers & Infinite values"
      ],
      "metadata": {
        "id": "qA1yKGxyrzcq"
      }
    },
    {
      "cell_type": "code",
      "source": [
        "Q1 = df.quantile(0.25)\n",
        "Q3 = df.quantile(0.75)\n",
        "IQR = Q3 - Q1\n",
        "\n",
        "df = df[~((df < (Q1 - 1.5 * IQR)) |(df > (Q3 + 1.5 * IQR))).any(axis=1)]"
      ],
      "metadata": {
        "id": "EOKwHuR9r0i4"
      },
      "execution_count": 39,
      "outputs": []
    },
    {
      "cell_type": "markdown",
      "source": [
        "## Skewed Distribution Treatment"
      ],
      "metadata": {
        "id": "Ac0-o_Gor3zK"
      }
    },
    {
      "cell_type": "code",
      "source": [
        "# Square Root Transformation\n",
        "\n",
        "df.ApplicantIncome = np.sqrt(df.ApplicantIncome)\n",
        "df.CoapplicantIncome = np.sqrt(df.CoapplicantIncome)\n",
        "df.LoanAmount = np.sqrt(df.LoanAmount)"
      ],
      "metadata": {
        "id": "ePVsHN0Tr492",
        "colab": {
          "base_uri": "https://localhost:8080/"
        },
        "outputId": "c698ef1f-97a9-483c-adf5-5138e0913a59"
      },
      "execution_count": 40,
      "outputs": [
        {
          "output_type": "stream",
          "name": "stderr",
          "text": [
            "/usr/local/lib/python3.8/dist-packages/pandas/core/generic.py:5516: SettingWithCopyWarning: \n",
            "A value is trying to be set on a copy of a slice from a DataFrame.\n",
            "Try using .loc[row_indexer,col_indexer] = value instead\n",
            "\n",
            "See the caveats in the documentation: https://pandas.pydata.org/pandas-docs/stable/user_guide/indexing.html#returning-a-view-versus-a-copy\n",
            "  self[name] = value\n"
          ]
        }
      ]
    },
    {
      "cell_type": "code",
      "source": [
        "sns.set(style=\"darkgrid\")\n",
        "fig, axs = plt.subplots(2, 2, figsize=(10, 8))\n",
        "\n",
        "sns.histplot(data=df, x=\"ApplicantIncome\", kde=True, ax=axs[0, 0], color='green')\n",
        "sns.histplot(data=df, x=\"CoapplicantIncome\", kde=True, ax=axs[0, 1], color='skyblue')\n",
        "sns.histplot(data=df, x=\"LoanAmount\", kde=True, ax=axs[1, 0], color='orange');"
      ],
      "metadata": {
        "colab": {
          "base_uri": "https://localhost:8080/",
          "height": 502
        },
        "id": "02YkMDe_r9WZ",
        "outputId": "3a3e2674-90f0-49e7-d1c2-af7b2fcd3894"
      },
      "execution_count": 41,
      "outputs": [
        {
          "output_type": "display_data",
          "data": {
            "text/plain": [
              "<Figure size 720x576 with 4 Axes>"
            ],
            "image/png": "[encoded data removed]"
          },
          "metadata": {}
        }
      ]
    },
    {
      "cell_type": "markdown",
      "source": [
        "## Features Separating"
      ],
      "metadata": {
        "id": "at2eaQmrsAHS"
      }
    },
    {
      "cell_type": "code",
      "source": [
        "X = df.drop([\"Loan_Status\"], axis=1)\n",
        "y = df[\"Loan_Status\"]"
      ],
      "metadata": {
        "id": "RIan-SQlsCob"
      },
      "execution_count": 42,
      "outputs": []
    },
    {
      "cell_type": "markdown",
      "source": [
        "## SMOTE Technique"
      ],
      "metadata": {
        "id": "kzZXv78RsG87"
      }
    },
    {
      "cell_type": "markdown",
      "source": [
        "In previous exploration, it can be seen that the number between approved and rejected loan is imbalanced. In this section, oversampling technique will be used to avoid overfitting,"
      ],
      "metadata": {
        "id": "RPMDNrL6sM-M"
      }
    },
    {
      "cell_type": "code",
      "source": [
        "X, y = SMOTE().fit_resample(X, y)"
      ],
      "metadata": {
        "id": "u5kMafGesJGh"
      },
      "execution_count": 43,
      "outputs": []
    },
    {
      "cell_type": "code",
      "source": [
        "sns.set_theme(style=\"darkgrid\")\n",
        "sns.countplot(y=y, data=df, palette=\"coolwarm\")\n",
        "plt.ylabel('Loan Status')\n",
        "plt.xlabel('Total')\n",
        "plt.show()"
      ],
      "metadata": {
        "colab": {
          "base_uri": "https://localhost:8080/",
          "height": 285
        },
        "id": "zEAoUMEzsPMc",
        "outputId": "629ae582-229e-4d59-d8d2-2e6c9d71a7a7"
      },
      "execution_count": 44,
      "outputs": [
        {
          "output_type": "display_data",
          "data": {
            "text/plain": [
              "<Figure size 432x288 with 1 Axes>"
            ],
            "image/png": "[encoded data removed]"
          },
          "metadata": {}
        }
      ]
    },
    {
      "cell_type": "markdown",
      "source": [
        "## Data Normalization"
      ],
      "metadata": {
        "id": "N29o4OhAsWlK"
      }
    },
    {
      "cell_type": "code",
      "source": [
        "X = MinMaxScaler().fit_transform(X)"
      ],
      "metadata": {
        "id": "G6zyvdKNsUei"
      },
      "execution_count": 45,
      "outputs": []
    },
    {
      "cell_type": "markdown",
      "source": [
        "## Splitting Data Set"
      ],
      "metadata": {
        "id": "fMWHdhdqsZ5k"
      }
    },
    {
      "cell_type": "code",
      "source": [
        "X_train, X_test, y_train, y_test = train_test_split(X, y, test_size = 0.2, random_state = 0)"
      ],
      "metadata": {
        "id": "F5QeywjXsdYC"
      },
      "execution_count": 46,
      "outputs": []
    },
    {
      "cell_type": "markdown",
      "source": [
        "# Modeling"
      ],
      "metadata": {
        "id": "2sSPRhGVsgXJ"
      }
    },
    {
      "cell_type": "markdown",
      "source": [
        "Logistic Regression"
      ],
      "metadata": {
        "id": "5c701X_3spLy"
      }
    },
    {
      "cell_type": "code",
      "source": [
        "LRclassifier = LogisticRegression(solver='saga', max_iter=500, random_state=1)\n",
        "LRclassifier.fit(X_train, y_train)\n",
        "\n",
        "y_pred = LRclassifier.predict(X_test)\n",
        "\n",
        "print(classification_report(y_test, y_pred))\n",
        "print(confusion_matrix(y_test, y_pred))\n",
        "\n",
        "from sklearn.metrics import accuracy_score\n",
        "LRAcc = accuracy_score(y_pred,y_test)\n",
        "print('LR accuracy: {:.2f}%'.format(LRAcc*100))"
      ],
      "metadata": {
        "colab": {
          "base_uri": "https://localhost:8080/"
        },
        "id": "lk4DEF61slcE",
        "outputId": "6010a104-0f34-4af8-8ea4-709f075f89d1"
      },
      "execution_count": 47,
      "outputs": [
        {
          "output_type": "stream",
          "name": "stdout",
          "text": [
            "              precision    recall  f1-score   support\n",
            "\n",
            "           0       0.86      0.83      0.84        23\n",
            "           1       0.83      0.86      0.84        22\n",
            "\n",
            "    accuracy                           0.84        45\n",
            "   macro avg       0.84      0.84      0.84        45\n",
            "weighted avg       0.85      0.84      0.84        45\n",
            "\n",
            "[[19  4]\n",
            " [ 3 19]]\n",
            "LR accuracy: 84.44%\n"
          ]
        }
      ]
    },
    {
      "cell_type": "markdown",
      "source": [
        "K-Nearest Neighbour (KNN)"
      ],
      "metadata": {
        "id": "qBd3zNMHst9u"
      }
    },
    {
      "cell_type": "code",
      "source": [
        "scoreListknn = []\n",
        "for i in range(1,21):\n",
        "    KNclassifier = KNeighborsClassifier(n_neighbors = i)\n",
        "    KNclassifier.fit(X_train, y_train)\n",
        "    scoreListknn.append(KNclassifier.score(X_test, y_test))\n",
        "    \n",
        "plt.plot(range(1,21), scoreListknn)\n",
        "plt.xticks(np.arange(1,21,1))\n",
        "plt.xlabel(\"K value\")\n",
        "plt.ylabel(\"Score\")\n",
        "plt.show()\n",
        "KNAcc = max(scoreListknn)\n",
        "print(\"KNN best accuracy: {:.2f}%\".format(KNAcc*100))"
      ],
      "metadata": {
        "colab": {
          "base_uri": "https://localhost:8080/",
          "height": 302
        },
        "id": "Eay3EuNmsxvZ",
        "outputId": "ccb04e18-bb10-4e4e-eb3f-2a17129b7b14"
      },
      "execution_count": 48,
      "outputs": [
        {
          "output_type": "display_data",
          "data": {
            "text/plain": [
              "<Figure size 432x288 with 1 Axes>"
            ],
            "image/png": "[encoded data removed]"
          },
          "metadata": {}
        },
        {
          "output_type": "stream",
          "name": "stdout",
          "text": [
            "KNN best accuracy: 91.11%\n"
          ]
        }
      ]
    },
    {
      "cell_type": "markdown",
      "source": [
        "Support Vector Machine (SVM)"
      ],
      "metadata": {
        "id": "ObEWb2Fxs0Xv"
      }
    },
    {
      "cell_type": "code",
      "source": [
        "SVCclassifier = SVC(kernel='rbf', max_iter=500)\n",
        "SVCclassifier.fit(X_train, y_train)\n",
        "\n",
        "y_pred = SVCclassifier.predict(X_test)\n",
        "\n",
        "print(classification_report(y_test, y_pred))\n",
        "print(confusion_matrix(y_test, y_pred))\n",
        "\n",
        "from sklearn.metrics import accuracy_score\n",
        "SVCAcc = accuracy_score(y_pred,y_test)\n",
        "print('SVC accuracy: {:.2f}%'.format(SVCAcc*100))"
      ],
      "metadata": {
        "colab": {
          "base_uri": "https://localhost:8080/"
        },
        "id": "Ph6i_xV1s3Lh",
        "outputId": "0c3ebd5a-318b-4a7a-e4af-875da88c0bc2"
      },
      "execution_count": 49,
      "outputs": [
        {
          "output_type": "stream",
          "name": "stdout",
          "text": [
            "              precision    recall  f1-score   support\n",
            "\n",
            "           0       0.95      0.83      0.88        23\n",
            "           1       0.84      0.95      0.89        22\n",
            "\n",
            "    accuracy                           0.89        45\n",
            "   macro avg       0.90      0.89      0.89        45\n",
            "weighted avg       0.90      0.89      0.89        45\n",
            "\n",
            "[[19  4]\n",
            " [ 1 21]]\n",
            "SVC accuracy: 88.89%\n"
          ]
        }
      ]
    },
    {
      "cell_type": "markdown",
      "source": [
        "Naive Bayes"
      ],
      "metadata": {
        "id": "o_SW57u5tD8V"
      }
    },
    {
      "cell_type": "code",
      "source": [
        "NBclassifier1 = CategoricalNB()\n",
        "NBclassifier1.fit(X_train, y_train)\n",
        "\n",
        "y_pred = NBclassifier1.predict(X_test)\n",
        "\n",
        "print(classification_report(y_test, y_pred))\n",
        "print(confusion_matrix(y_test, y_pred))\n",
        "\n",
        "from sklearn.metrics import accuracy_score\n",
        "NBAcc1 = accuracy_score(y_pred,y_test)\n",
        "print('Categorical Naive Bayes accuracy: {:.2f}%'.format(NBAcc1*100))"
      ],
      "metadata": {
        "colab": {
          "base_uri": "https://localhost:8080/"
        },
        "id": "XPQ6E3oJtEbp",
        "outputId": "7a6f08bf-6a40-4199-e9a4-9a5f0690b8de"
      },
      "execution_count": 50,
      "outputs": [
        {
          "output_type": "stream",
          "name": "stdout",
          "text": [
            "              precision    recall  f1-score   support\n",
            "\n",
            "           0       0.79      0.65      0.71        23\n",
            "           1       0.69      0.82      0.75        22\n",
            "\n",
            "    accuracy                           0.73        45\n",
            "   macro avg       0.74      0.74      0.73        45\n",
            "weighted avg       0.74      0.73      0.73        45\n",
            "\n",
            "[[15  8]\n",
            " [ 4 18]]\n",
            "Categorical Naive Bayes accuracy: 73.33%\n"
          ]
        }
      ]
    },
    {
      "cell_type": "markdown",
      "source": [
        "Gaussian NB"
      ],
      "metadata": {
        "id": "iSstG1-NtGsy"
      }
    },
    {
      "cell_type": "code",
      "source": [
        "NBclassifier2 = GaussianNB()\n",
        "NBclassifier2.fit(X_train, y_train)\n",
        "\n",
        "y_pred = NBclassifier2.predict(X_test)\n",
        "\n",
        "print(classification_report(y_test, y_pred))\n",
        "print(confusion_matrix(y_test, y_pred))\n",
        "\n",
        "from sklearn.metrics import accuracy_score\n",
        "NBAcc2 = accuracy_score(y_pred,y_test)\n",
        "print('Gaussian Naive Bayes accuracy: {:.2f}%'.format(NBAcc2*100))"
      ],
      "metadata": {
        "colab": {
          "base_uri": "https://localhost:8080/"
        },
        "id": "mCtpZqC5tImp",
        "outputId": "292e6c55-27ed-47e4-b198-4a8a2141215a"
      },
      "execution_count": 51,
      "outputs": [
        {
          "output_type": "stream",
          "name": "stdout",
          "text": [
            "              precision    recall  f1-score   support\n",
            "\n",
            "           0       0.70      0.83      0.76        23\n",
            "           1       0.78      0.64      0.70        22\n",
            "\n",
            "    accuracy                           0.73        45\n",
            "   macro avg       0.74      0.73      0.73        45\n",
            "weighted avg       0.74      0.73      0.73        45\n",
            "\n",
            "[[19  4]\n",
            " [ 8 14]]\n",
            "Gaussian Naive Bayes accuracy: 73.33%\n"
          ]
        }
      ]
    },
    {
      "cell_type": "markdown",
      "source": [
        "Decision Tree"
      ],
      "metadata": {
        "id": "zD3AQoKatK-z"
      }
    },
    {
      "cell_type": "code",
      "source": [
        "scoreListDT = []\n",
        "for i in range(2,21):\n",
        "    DTclassifier = DecisionTreeClassifier(max_leaf_nodes=i)\n",
        "    DTclassifier.fit(X_train, y_train)\n",
        "    scoreListDT.append(DTclassifier.score(X_test, y_test))\n",
        "    \n",
        "plt.plot(range(2,21), scoreListDT)\n",
        "plt.xticks(np.arange(2,21,1))\n",
        "plt.xlabel(\"Leaf\")\n",
        "plt.ylabel(\"Score\")\n",
        "plt.show()\n",
        "DTAcc = max(scoreListDT)\n",
        "print(\"Decision Tree Accuracy: {:.2f}%\".format(DTAcc*100))"
      ],
      "metadata": {
        "colab": {
          "base_uri": "https://localhost:8080/",
          "height": 302
        },
        "id": "DMXTwNVLtMxO",
        "outputId": "2018b720-92ec-4f4c-fbb2-06adbb017ad8"
      },
      "execution_count": 52,
      "outputs": [
        {
          "output_type": "display_data",
          "data": {
            "text/plain": [
              "<Figure size 432x288 with 1 Axes>"
            ],
            "image/png": "[encoded data removed]"
          },
          "metadata": {}
        },
        {
          "output_type": "stream",
          "name": "stdout",
          "text": [
            "Decision Tree Accuracy: 88.89%\n"
          ]
        }
      ]
    },
    {
      "cell_type": "markdown",
      "source": [
        "Random Forest"
      ],
      "metadata": {
        "id": "tPUduGsStQoc"
      }
    },
    {
      "cell_type": "code",
      "source": [
        "scoreListRF = []\n",
        "for i in range(2,25):\n",
        "    RFclassifier = RandomForestClassifier(n_estimators = 1000, random_state = 1, max_leaf_nodes=i)\n",
        "    RFclassifier.fit(X_train, y_train)\n",
        "    scoreListRF.append(RFclassifier.score(X_test, y_test))\n",
        "    \n",
        "plt.plot(range(2,25), scoreListRF)\n",
        "plt.xticks(np.arange(2,25,1))\n",
        "plt.xlabel(\"RF Value\")\n",
        "plt.ylabel(\"Score\")\n",
        "plt.show()\n",
        "RFAcc = max(scoreListRF)\n",
        "print(\"Random Forest Accuracy:  {:.2f}%\".format(RFAcc*100))"
      ],
      "metadata": {
        "colab": {
          "base_uri": "https://localhost:8080/",
          "height": 302
        },
        "id": "R2wyaz_LtRKo",
        "outputId": "42e156aa-4d5a-4cd6-94a6-f5b4080d4cf3"
      },
      "execution_count": 53,
      "outputs": [
        {
          "output_type": "display_data",
          "data": {
            "text/plain": [
              "<Figure size 432x288 with 1 Axes>"
            ],
            "image/png": "[encoded data removed]"
          },
          "metadata": {}
        },
        {
          "output_type": "stream",
          "name": "stdout",
          "text": [
            "Random Forest Accuracy:  93.33%\n"
          ]
        }
      ]
    },
    {
      "cell_type": "markdown",
      "source": [
        "Gradient Boosting"
      ],
      "metadata": {
        "id": "aSGAj2yBtUMo"
      }
    },
    {
      "cell_type": "code",
      "source": [
        "paramsGB={'n_estimators':[100,200,300,400,500],\n",
        "      'max_depth':[1,2,3,4,5],\n",
        "      'subsample':[0.5,1],\n",
        "      'max_leaf_nodes':[2,5,10,20,30,40,50]}"
      ],
      "metadata": {
        "id": "KmI9Har7tWyL"
      },
      "execution_count": 54,
      "outputs": []
    },
    {
      "cell_type": "code",
      "source": [
        "GB = RandomizedSearchCV(GradientBoostingClassifier(), paramsGB, cv=20)\n",
        "GB.fit(X_train, y_train)"
      ],
      "metadata": {
        "colab": {
          "base_uri": "https://localhost:8080/",
          "height": 118
        },
        "id": "gfG4wvfUtYOs",
        "outputId": "077a1968-e7bb-40e9-d3e0-4f9100ca5cb9"
      },
      "execution_count": 55,
      "outputs": [
        {
          "output_type": "execute_result",
          "data": {
            "text/plain": [
              "RandomizedSearchCV(cv=20, estimator=GradientBoostingClassifier(),\n",
              "                   param_distributions={'max_depth': [1, 2, 3, 4, 5],\n",
              "                                        'max_leaf_nodes': [2, 5, 10, 20, 30, 40,\n",
              "                                                           50],\n",
              "                                        'n_estimators': [100, 200, 300, 400,\n",
              "                                                         500],\n",
              "                                        'subsample': [0.5, 1]})"
            ],
            "text/html": [
              "<style>#sk-container-id-1 {color: black;background-color: white;}#sk-container-id-1 pre{padding: 0;}#sk-container-id-1 div.sk-toggleable {background-color: white;}#sk-container-id-1 label.sk-toggleable__label {cursor: pointer;display: block;width: 100%;margin-bottom: 0;padding: 0.3em;box-sizing: border-box;text-align: center;}#sk-container-id-1 label.sk-toggleable__label-arrow:before {content: \"▸\";float: left;margin-right: 0.25em;color: #696969;}#sk-container-id-1 label.sk-toggleable__label-arrow:hover:before {color: black;}#sk-container-id-1 div.sk-estimator:hover label.sk-toggleable__label-arrow:before {color: black;}#sk-container-id-1 div.sk-toggleable__content {max-height: 0;max-width: 0;overflow: hidden;text-align: left;background-color: #f0f8ff;}#sk-container-id-1 div.sk-toggleable__content pre {margin: 0.2em;color: black;border-radius: 0.25em;background-color: #f0f8ff;}#sk-container-id-1 input.sk-toggleable__control:checked~div.sk-toggleable__content {max-height: 200px;max-width: 100%;overflow: auto;}#sk-container-id-1 input.sk-toggleable__control:checked~label.sk-toggleable__label-arrow:before {content: \"▾\";}#sk-container-id-1 div.sk-estimator input.sk-toggleable__control:checked~label.sk-toggleable__label {background-color: #d4ebff;}#sk-container-id-1 div.sk-label input.sk-toggleable__control:checked~label.sk-toggleable__label {background-color: #d4ebff;}#sk-container-id-1 input.sk-hidden--visually {border: 0;clip: rect(1px 1px 1px 1px);clip: rect(1px, 1px, 1px, 1px);height: 1px;margin: -1px;overflow: hidden;padding: 0;position: absolute;width: 1px;}#sk-container-id-1 div.sk-estimator {font-family: monospace;background-color: #f0f8ff;border: 1px dotted black;border-radius: 0.25em;box-sizing: border-box;margin-bottom: 0.5em;}#sk-container-id-1 div.sk-estimator:hover {background-color: #d4ebff;}#sk-container-id-1 div.sk-parallel-item::after {content: \"\";width: 100%;border-bottom: 1px solid gray;flex-grow: 1;}#sk-container-id-1 div.sk-label:hover label.sk-toggleable__label {background-color: #d4ebff;}#sk-container-id-1 div.sk-serial::before {content: \"\";position: absolute;border-left: 1px solid gray;box-sizing: border-box;top: 0;bottom: 0;left: 50%;z-index: 0;}#sk-container-id-1 div.sk-serial {display: flex;flex-direction: column;align-items: center;background-color: white;padding-right: 0.2em;padding-left: 0.2em;position: relative;}#sk-container-id-1 div.sk-item {position: relative;z-index: 1;}#sk-container-id-1 div.sk-parallel {display: flex;align-items: stretch;justify-content: center;background-color: white;position: relative;}#sk-container-id-1 div.sk-item::before, #sk-container-id-1 div.sk-parallel-item::before {content: \"\";position: absolute;border-left: 1px solid gray;box-sizing: border-box;top: 0;bottom: 0;left: 50%;z-index: -1;}#sk-container-id-1 div.sk-parallel-item {display: flex;flex-direction: column;z-index: 1;position: relative;background-color: white;}#sk-container-id-1 div.sk-parallel-item:first-child::after {align-self: flex-end;width: 50%;}#sk-container-id-1 div.sk-parallel-item:last-child::after {align-self: flex-start;width: 50%;}#sk-container-id-1 div.sk-parallel-item:only-child::after {width: 0;}#sk-container-id-1 div.sk-dashed-wrapped {border: 1px dashed gray;margin: 0 0.4em 0.5em 0.4em;box-sizing: border-box;padding-bottom: 0.4em;background-color: white;}#sk-container-id-1 div.sk-label label {font-family: monospace;font-weight: bold;display: inline-block;line-height: 1.2em;}#sk-container-id-1 div.sk-label-container {text-align: center;}#sk-container-id-1 div.sk-container {/* jupyter's `normalize.less` sets `[hidden] { display: none; }` but bootstrap.min.css set `[hidden] { display: none !important; }` so we also need the `!important` here to be able to override the default hidden behavior on the sphinx rendered scikit-learn.org. See: https://github.com/scikit-learn/scikit-learn/issues/21755 */display: inline-block !important;position: relative;}#sk-container-id-1 div.sk-text-repr-fallback {display: none;}</style><div id=\"sk-container-id-1\" class=\"sk-top-container\"><div class=\"sk-text-repr-fallback\"><pre>RandomizedSearchCV(cv=20, estimator=GradientBoostingClassifier(),\n",
              "                   param_distributions={&#x27;max_depth&#x27;: [1, 2, 3, 4, 5],\n",
              "                                        &#x27;max_leaf_nodes&#x27;: [2, 5, 10, 20, 30, 40,\n",
              "                                                           50],\n",
              "                                        &#x27;n_estimators&#x27;: [100, 200, 300, 400,\n",
              "                                                         500],\n",
              "                                        &#x27;subsample&#x27;: [0.5, 1]})</pre><b>In a Jupyter environment, please rerun this cell to show the HTML representation or trust the notebook. <br />On GitHub, the HTML representation is unable to render, please try loading this page with nbviewer.org.</b></div><div class=\"sk-container\" hidden><div class=\"sk-item sk-dashed-wrapped\"><div class=\"sk-label-container\"><div class=\"sk-label sk-toggleable\"><input class=\"sk-toggleable__control sk-hidden--visually\" id=\"sk-estimator-id-1\" type=\"checkbox\" ><label for=\"sk-estimator-id-1\" class=\"sk-toggleable__label sk-toggleable__label-arrow\">RandomizedSearchCV</label><div class=\"sk-toggleable__content\"><pre>RandomizedSearchCV(cv=20, estimator=GradientBoostingClassifier(),\n",
              "                   param_distributions={&#x27;max_depth&#x27;: [1, 2, 3, 4, 5],\n",
              "                                        &#x27;max_leaf_nodes&#x27;: [2, 5, 10, 20, 30, 40,\n",
              "                                                           50],\n",
              "                                        &#x27;n_estimators&#x27;: [100, 200, 300, 400,\n",
              "                                                         500],\n",
              "                                        &#x27;subsample&#x27;: [0.5, 1]})</pre></div></div></div><div class=\"sk-parallel\"><div class=\"sk-parallel-item\"><div class=\"sk-item\"><div class=\"sk-label-container\"><div class=\"sk-label sk-toggleable\"><input class=\"sk-toggleable__control sk-hidden--visually\" id=\"sk-estimator-id-2\" type=\"checkbox\" ><label for=\"sk-estimator-id-2\" class=\"sk-toggleable__label sk-toggleable__label-arrow\">estimator: GradientBoostingClassifier</label><div class=\"sk-toggleable__content\"><pre>GradientBoostingClassifier()</pre></div></div></div><div class=\"sk-serial\"><div class=\"sk-item\"><div class=\"sk-estimator sk-toggleable\"><input class=\"sk-toggleable__control sk-hidden--visually\" id=\"sk-estimator-id-3\" type=\"checkbox\" ><label for=\"sk-estimator-id-3\" class=\"sk-toggleable__label sk-toggleable__label-arrow\">GradientBoostingClassifier</label><div class=\"sk-toggleable__content\"><pre>GradientBoostingClassifier()</pre></div></div></div></div></div></div></div></div></div></div>"
            ]
          },
          "metadata": {},
          "execution_count": 55
        }
      ]
    },
    {
      "cell_type": "code",
      "source": [
        "print(GB.best_estimator_)\n",
        "print(GB.best_score_)\n",
        "print(GB.best_params_)\n",
        "print(GB.best_index_)"
      ],
      "metadata": {
        "colab": {
          "base_uri": "https://localhost:8080/"
        },
        "id": "LPbJuZLCtbpX",
        "outputId": "5c5542e0-08d7-4fd4-9cb6-218de09c4b7a"
      },
      "execution_count": 56,
      "outputs": [
        {
          "output_type": "stream",
          "name": "stdout",
          "text": [
            "GradientBoostingClassifier(max_depth=4, max_leaf_nodes=5, n_estimators=400,\n",
            "                           subsample=0.5)\n",
            "0.8222222222222222\n",
            "{'subsample': 0.5, 'n_estimators': 400, 'max_leaf_nodes': 5, 'max_depth': 4}\n",
            "2\n"
          ]
        }
      ]
    },
    {
      "cell_type": "code",
      "source": [
        "GBclassifier = GradientBoostingClassifier(subsample=0.5, n_estimators=400, max_depth=4, max_leaf_nodes=10)\n",
        "GBclassifier.fit(X_train, y_train)\n",
        "\n",
        "y_pred = GBclassifier.predict(X_test)\n",
        "\n",
        "print(classification_report(y_test, y_pred))\n",
        "print(confusion_matrix(y_test, y_pred))\n",
        "\n",
        "from sklearn.metrics import accuracy_score\n",
        "GBAcc = accuracy_score(y_pred,y_test)\n",
        "print('Gradient Boosting accuracy: {:.2f}%'.format(GBAcc*100))"
      ],
      "metadata": {
        "colab": {
          "base_uri": "https://localhost:8080/"
        },
        "id": "jQ4hmptftdy7",
        "outputId": "6b422409-27c4-41f1-e327-24fd28b60c8a"
      },
      "execution_count": 57,
      "outputs": [
        {
          "output_type": "stream",
          "name": "stdout",
          "text": [
            "              precision    recall  f1-score   support\n",
            "\n",
            "           0       0.73      0.70      0.71        23\n",
            "           1       0.70      0.73      0.71        22\n",
            "\n",
            "    accuracy                           0.71        45\n",
            "   macro avg       0.71      0.71      0.71        45\n",
            "weighted avg       0.71      0.71      0.71        45\n",
            "\n",
            "[[16  7]\n",
            " [ 6 16]]\n",
            "Gradient Boosting accuracy: 71.11%\n"
          ]
        }
      ]
    },
    {
      "cell_type": "markdown",
      "source": [
        "# Model Comparison"
      ],
      "metadata": {
        "id": "XsFoqKvLtklV"
      }
    },
    {
      "cell_type": "code",
      "source": [
        "compare = pd.DataFrame({'Model': ['Logistic Regression', 'K Neighbors', \n",
        "                                  'SVM', 'Categorical NB', \n",
        "                                  'Gaussian NB', 'Decision Tree', \n",
        "                                  'Random Forest', 'Gradient Boost'], \n",
        "                        'Accuracy': [LRAcc*100, KNAcc*100, SVCAcc*100, \n",
        "                                     NBAcc1*100, NBAcc2*100, DTAcc*100, \n",
        "                                     RFAcc*100, GBAcc*100]})\n",
        "compare.sort_values(by='Accuracy', ascending=False)"
      ],
      "metadata": {
        "colab": {
          "base_uri": "https://localhost:8080/",
          "height": 300
        },
        "id": "RTAX0DgltlaP",
        "outputId": "344010d0-cbf5-40b9-d3b6-83f7b492804e"
      },
      "execution_count": 58,
      "outputs": [
        {
          "output_type": "execute_result",
          "data": {
            "text/plain": [
              "                 Model   Accuracy\n",
              "6        Random Forest  93.333333\n",
              "1          K Neighbors  91.111111\n",
              "2                  SVM  88.888889\n",
              "5        Decision Tree  88.888889\n",
              "0  Logistic Regression  84.444444\n",
              "3       Categorical NB  73.333333\n",
              "4          Gaussian NB  73.333333\n",
              "7       Gradient Boost  71.111111"
            ],
            "text/html": [
              "\n",
              "  <div id=\"df-658ea154-7ce4-4206-a115-fdd56ee8a32e\">\n",
              "    <div class=\"colab-df-container\">\n",
              "      <div>\n",
              "<style scoped>\n",
              "    .dataframe tbody tr th:only-of-type {\n",
              "        vertical-align: middle;\n",
              "    }\n",
              "\n",
              "    .dataframe tbody tr th {\n",
              "        vertical-align: top;\n",
              "    }\n",
              "\n",
              "    .dataframe thead th {\n",
              "        text-align: right;\n",
              "    }\n",
              "</style>\n",
              "<table border=\"1\" class=\"dataframe\">\n",
              "  <thead>\n",
              "    <tr style=\"text-align: right;\">\n",
              "      <th></th>\n",
              "      <th>Model</th>\n",
              "      <th>Accuracy</th>\n",
              "    </tr>\n",
              "  </thead>\n",
              "  <tbody>\n",
              "    <tr>\n",
              "      <th>6</th>\n",
              "      <td>Random Forest</td>\n",
              "      <td>93.333333</td>\n",
              "    </tr>\n",
              "    <tr>\n",
              "      <th>1</th>\n",
              "      <td>K Neighbors</td>\n",
              "      <td>91.111111</td>\n",
              "    </tr>\n",
              "    <tr>\n",
              "      <th>2</th>\n",
              "      <td>SVM</td>\n",
              "      <td>88.888889</td>\n",
              "    </tr>\n",
              "    <tr>\n",
              "      <th>5</th>\n",
              "      <td>Decision Tree</td>\n",
              "      <td>88.888889</td>\n",
              "    </tr>\n",
              "    <tr>\n",
              "      <th>0</th>\n",
              "      <td>Logistic Regression</td>\n",
              "      <td>84.444444</td>\n",
              "    </tr>\n",
              "    <tr>\n",
              "      <th>3</th>\n",
              "      <td>Categorical NB</td>\n",
              "      <td>73.333333</td>\n",
              "    </tr>\n",
              "    <tr>\n",
              "      <th>4</th>\n",
              "      <td>Gaussian NB</td>\n",
              "      <td>73.333333</td>\n",
              "    </tr>\n",
              "    <tr>\n",
              "      <th>7</th>\n",
              "      <td>Gradient Boost</td>\n",
              "      <td>71.111111</td>\n",
              "    </tr>\n",
              "  </tbody>\n",
              "</table>\n",
              "</div>\n",
              "      <button class=\"colab-df-convert\" onclick=\"convertToInteractive('df-658ea154-7ce4-4206-a115-fdd56ee8a32e')\"\n",
              "              title=\"Convert this dataframe to an interactive table.\"\n",
              "              style=\"display:none;\">\n",
              "        \n",
              "  <svg xmlns=\"http://www.w3.org/2000/svg\" height=\"24px\"viewBox=\"0 0 24 24\"\n",
              "       width=\"24px\">\n",
              "    <path d=\"M0 0h24v24H0V0z\" fill=\"none\"/>\n",
              "    <path d=\"M18.56 5.44l.94 2.06.94-2.06 2.06-.94-2.06-.94-.94-2.06-.94 2.06-2.06.94zm-11 1L8.5 8.5l.94-2.06 2.06-.94-2.06-.94L8.5 2.5l-.94 2.06-2.06.94zm10 10l.94 2.06.94-2.06 2.06-.94-2.06-.94-.94-2.06-.94 2.06-2.06.94z\"/><path d=\"M17.41 7.96l-1.37-1.37c-.4-.4-.92-.59-1.43-.59-.52 0-1.04.2-1.43.59L10.3 9.45l-7.72 7.72c-.78.78-.78 2.05 0 2.83L4 21.41c.39.39.9.59 1.41.59.51 0 1.02-.2 1.41-.59l7.78-7.78 2.81-2.81c.8-.78.8-2.07 0-2.86zM5.41 20L4 18.59l7.72-7.72 1.47 1.35L5.41 20z\"/>\n",
              "  </svg>\n",
              "      </button>\n",
              "      \n",
              "  <style>\n",
              "    .colab-df-container {\n",
              "      display:flex;\n",
              "      flex-wrap:wrap;\n",
              "      gap: 12px;\n",
              "    }\n",
              "\n",
              "    .colab-df-convert {\n",
              "      background-color: #E8F0FE;\n",
              "      border: none;\n",
              "      border-radius: 50%;\n",
              "      cursor: pointer;\n",
              "      display: none;\n",
              "      fill: #1967D2;\n",
              "      height: 32px;\n",
              "      padding: 0 0 0 0;\n",
              "      width: 32px;\n",
              "    }\n",
              "\n",
              "    .colab-df-convert:hover {\n",
              "      background-color: #E2EBFA;\n",
              "      box-shadow: 0px 1px 2px rgba(60, 64, 67, 0.3), 0px 1px 3px 1px rgba(60, 64, 67, 0.15);\n",
              "      fill: #174EA6;\n",
              "    }\n",
              "\n",
              "    [theme=dark] .colab-df-convert {\n",
              "      background-color: #3B4455;\n",
              "      fill: #D2E3FC;\n",
              "    }\n",
              "\n",
              "    [theme=dark] .colab-df-convert:hover {\n",
              "      background-color: #434B5C;\n",
              "      box-shadow: 0px 1px 3px 1px rgba(0, 0, 0, 0.15);\n",
              "      filter: drop-shadow(0px 1px 2px rgba(0, 0, 0, 0.3));\n",
              "      fill: #FFFFFF;\n",
              "    }\n",
              "  </style>\n",
              "\n",
              "      <script>\n",
              "        const buttonEl =\n",
              "          document.querySelector('#df-658ea154-7ce4-4206-a115-fdd56ee8a32e button.colab-df-convert');\n",
              "        buttonEl.style.display =\n",
              "          google.colab.kernel.accessAllowed ? 'block' : 'none';\n",
              "\n",
              "        async function convertToInteractive(key) {\n",
              "          const element = document.querySelector('#df-658ea154-7ce4-4206-a115-fdd56ee8a32e');\n",
              "          const dataTable =\n",
              "            await google.colab.kernel.invokeFunction('convertToInteractive',\n",
              "                                                     [key], {});\n",
              "          if (!dataTable) return;\n",
              "\n",
              "          const docLinkHtml = 'Like what you see? Visit the ' +\n",
              "            '<a target=\"_blank\" href=https://colab.research.google.com/notebooks/data_table.ipynb>data table notebook</a>'\n",
              "            + ' to learn more about interactive tables.';\n",
              "          element.innerHTML = '';\n",
              "          dataTable['output_type'] = 'display_data';\n",
              "          await google.colab.output.renderOutput(dataTable, element);\n",
              "          const docLink = document.createElement('div');\n",
              "          docLink.innerHTML = docLinkHtml;\n",
              "          element.appendChild(docLink);\n",
              "        }\n",
              "      </script>\n",
              "    </div>\n",
              "  </div>\n",
              "  "
            ]
          },
          "metadata": {},
          "execution_count": 58
        }
      ]
    },
    {
      "cell_type": "markdown",
      "source": [
        "1. In general, it can be seen that all models can achieve up to 70% accuracy.\n",
        "2. The highest accuracy is 93%."
      ],
      "metadata": {
        "id": "1rc7H7UdtqBw"
      }
    }
  ]
}